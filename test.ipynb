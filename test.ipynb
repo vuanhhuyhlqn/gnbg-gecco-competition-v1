{
 "cells": [
  {
   "cell_type": "code",
   "execution_count": 7,
   "id": "15caad28-2aff-46ea-9f89-71d4489e50a9",
   "metadata": {},
   "outputs": [],
   "source": [
    "import numpy as np\n",
    "from openai import OpenAI"
   ]
  },
  {
   "cell_type": "code",
   "execution_count": 8,
   "id": "10c7a8d6-df71-4cfc-9f10-e0f5026b0de1",
   "metadata": {},
   "outputs": [],
   "source": [
    "f = open(\"rmp_prompt.txt\", \"r\")\n",
    "rmp_prompt= f.read()\n",
    "client = OpenAI(api_key=\"sk-505a4ff57cfb432d8888a3d8d66a3133\", base_url=\"https://api.deepseek.com\")\n",
    "messages = [{\"role\": \"user\", \"content\": rmp_prompt}]\n",
    "response = client.chat.completions.create(\n",
    "    model=\"deepseek-chat\",\n",
    "    messages=messages,\n",
    "    temperature=1.5,\n",
    ")\n",
    "messages.append(response.choices[0].message)\n",
    "text = messages[-1].content"
   ]
  },
  {
   "cell_type": "code",
   "execution_count": 9,
   "id": "96061244-64c9-4bcf-af77-92c1c7c26adb",
   "metadata": {},
   "outputs": [
    {
     "name": "stdout",
     "output_type": "stream",
     "text": [
      "```python\n",
      "import numpy as np\n",
      "\n",
      "def get_rmp(pop, fitness, skill_factor):\n",
      "    n_individuals = pop.shape[0]\n",
      "    skill_mask = skill_factor[:, None] == skill_factor[None, :]\n",
      "    \n",
      "    normalized_pop = (pop - np.mean(pop, axis=0)) / (np.std(pop, axis=0) + 1e-10)\n",
      "    dist_matrix = np.sqrt(np.sum((normalized_pop[:, None, :] - normalized_pop[None, :, :]) ** 2, axis=-1))\n",
      "    \n",
      "    max_dist = np.max(dist_matrix)\n",
      "    norm_dist = dist_matrix / (max_dist + 1e-10)\n",
      "    \n",
      "    fitness_diff = np.abs(fitness[:, None] - fitness[None, :])\n",
      "    fitness_norm = fitness_diff / (np.max(fitness_diff) + 1e-10\n",
      "    \n",
      "    adaptive_factor = 0.5 * (1 - norm_dist) + 0.5 * (1 - fitness_norm)\n",
      "    adaptive_factor = np.clip(adaptive_factor, 0.1, 0.9)\n",
      "    \n",
      "    rmp = np.where(skill_mask, 1.0, adaptive_factor)\n",
      "    \n",
      "    return rmp\n",
      "```\n"
     ]
    }
   ],
   "source": [
    "print(text)"
   ]
  },
  {
   "cell_type": "code",
   "execution_count": 10,
   "id": "7e23cc08-f5b0-4795-a37d-4936a698edd5",
   "metadata": {},
   "outputs": [],
   "source": [
    "def remove_code_block_markers(code_text):\n",
    "    # Chia đoạn text thành các dòng\n",
    "    lines = code_text.strip().split('\\n')\n",
    "    \n",
    "    # Loại bỏ dòng đầu (```python) và dòng cuối (```)\n",
    "    if lines and lines[0].strip() == '```python':\n",
    "        lines = lines[1:]  # Bỏ dòng đầu\n",
    "    if lines and lines[-1].strip() == '```':\n",
    "        lines = lines[:-1]  # Bỏ dòng cuối\n",
    "    \n",
    "    # Nối lại các dòng thành chuỗi\n",
    "    return '\\n'.join(lines)"
   ]
  },
  {
   "cell_type": "code",
   "execution_count": 11,
   "id": "b7b06557-e2d1-4c1b-90d8-37b64039315b",
   "metadata": {},
   "outputs": [
    {
     "name": "stdout",
     "output_type": "stream",
     "text": [
      "import numpy as np\n",
      "\n",
      "def get_rmp(pop, fitness, skill_factor):\n",
      "    n_individuals = pop.shape[0]\n",
      "    skill_mask = skill_factor[:, None] == skill_factor[None, :]\n",
      "    \n",
      "    normalized_pop = (pop - np.mean(pop, axis=0)) / (np.std(pop, axis=0) + 1e-10)\n",
      "    dist_matrix = np.sqrt(np.sum((normalized_pop[:, None, :] - normalized_pop[None, :, :]) ** 2, axis=-1))\n",
      "    \n",
      "    max_dist = np.max(dist_matrix)\n",
      "    norm_dist = dist_matrix / (max_dist + 1e-10)\n",
      "    \n",
      "    fitness_diff = np.abs(fitness[:, None] - fitness[None, :])\n",
      "    fitness_norm = fitness_diff / (np.max(fitness_diff) + 1e-10\n",
      "    \n",
      "    adaptive_factor = 0.5 * (1 - norm_dist) + 0.5 * (1 - fitness_norm)\n",
      "    adaptive_factor = np.clip(adaptive_factor, 0.1, 0.9)\n",
      "    \n",
      "    rmp = np.where(skill_mask, 1.0, adaptive_factor)\n",
      "    \n",
      "    return rmp\n"
     ]
    }
   ],
   "source": [
    "text = remove_code_block_markers(text)\n",
    "print(text)"
   ]
  },
  {
   "cell_type": "code",
   "execution_count": 11,
   "id": "7e8f07c0-0f4b-47d2-bee0-e271cb633767",
   "metadata": {},
   "outputs": [],
   "source": [
    "from deepseek import get_rmp_update_code"
   ]
  },
  {
   "cell_type": "code",
   "execution_count": 13,
   "id": "51f1ffa3-0a81-4e34-9223-2f788a12f091",
   "metadata": {},
   "outputs": [
    {
     "name": "stdout",
     "output_type": "stream",
     "text": [
      "def get_rmp(pop, fitness, skill_factor):\n",
      "    n = len(pop)\n",
      "    rmp = np.random.rand(n, n) * 0.5 + 0.2\n",
      "    \n",
      "    diff_skill = skill_factor[:, None] != skill_factor\n",
      "    same_skill = ~diff_skill\n",
      "    \n",
      "    dist = np.linalg.norm(pop[:, np.newaxis] - pop, axis=2)\n",
      "    max_dist = np.max(dist)\n",
      "    if max_dist > 0:\n",
      "        dist = dist / max_dist\n",
      "    \n",
      "    fitness_diff = np.abs(fitness[:, None] - fitness)\n",
      "    max_fitness_diff = np.max(fitness_diff)\n",
      "    if max_fitness_diff > 0:\n",
      "        fitness_diff = fitness_diff / max_fitness_diff\n",
      "    \n",
      "    rmp = np.where(diff_skill, \n",
      "                   rmp * (0.7 - 0.3 * dist) * (1.0 - 0.5 * fitness_diff), \n",
      "                   rmp * same_skill)\n",
      "    \n",
      "    rmp = np.clip(rmp, 0.1, 0.9)\n",
      "    np.fill_diagonal(rmp, 1.0)\n",
      "    \n",
      "    return rmp\n"
     ]
    }
   ],
   "source": [
    "print(get_rmp_update_code())"
   ]
  }
 ],
 "metadata": {
  "kernelspec": {
   "display_name": "Python 3 (ipykernel)",
   "language": "python",
   "name": "python3"
  },
  "language_info": {
   "codemirror_mode": {
    "name": "ipython",
    "version": 3
   },
   "file_extension": ".py",
   "mimetype": "text/x-python",
   "name": "python",
   "nbconvert_exporter": "python",
   "pygments_lexer": "ipython3",
   "version": "3.9.12"
  }
 },
 "nbformat": 4,
 "nbformat_minor": 5
}
